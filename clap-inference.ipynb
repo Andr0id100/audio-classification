{
 "cells": [
  {
   "cell_type": "code",
   "execution_count": 2,
   "id": "86b33166-bcbb-4706-89f4-ceeb89e8bac9",
   "metadata": {},
   "outputs": [],
   "source": [
    "from transformers import pipeline\n",
    "from scripts.utils import get_dataset\n",
    "import pandas as pd\n",
    "from tqdm.notebook import tqdm\n",
    "import numpy as np"
   ]
  },
  {
   "cell_type": "code",
   "execution_count": 3,
   "id": "e9eb4ad0-6b87-4dd7-ad0b-e894455077bd",
   "metadata": {
    "tags": []
   },
   "outputs": [],
   "source": [
    "classifier = pipeline(\n",
    "    task=\"zero-shot-audio-classification\", model=\"laion/clap-htsat-unfused\"\n",
    ")"
   ]
  },
  {
   "cell_type": "code",
   "execution_count": 4,
   "id": "509a137b-c4d7-4193-b31e-11b2c76277a8",
   "metadata": {},
   "outputs": [
    {
     "data": {
      "text/plain": [
       "DatasetDict({\n",
       "    train: Dataset({\n",
       "        features: ['audio', 'slice_file_name', 'fsID', 'start', 'end', 'salience', 'fold', 'classID', 'class'],\n",
       "        num_rows: 6112\n",
       "    })\n",
       "    test: Dataset({\n",
       "        features: ['audio', 'slice_file_name', 'fsID', 'start', 'end', 'salience', 'fold', 'classID', 'class'],\n",
       "        num_rows: 1310\n",
       "    })\n",
       "    valid: Dataset({\n",
       "        features: ['audio', 'slice_file_name', 'fsID', 'start', 'end', 'salience', 'fold', 'classID', 'class'],\n",
       "        num_rows: 1310\n",
       "    })\n",
       "})"
      ]
     },
     "execution_count": 4,
     "metadata": {},
     "output_type": "execute_result"
    }
   ],
   "source": [
    "dataset = get_dataset()\n",
    "dataset"
   ]
  },
  {
   "cell_type": "code",
   "execution_count": 5,
   "id": "d04f3740-f0b2-4b78-92a6-523f48f03855",
   "metadata": {},
   "outputs": [],
   "source": [
    "classes = sorted(list(set(dataset[\"train\"][\"class\"])))"
   ]
  },
  {
   "cell_type": "code",
   "execution_count": 6,
   "id": "05ab230c-6370-4245-a458-b52a89df54a7",
   "metadata": {},
   "outputs": [],
   "source": [
    "def get_predictions(ds):\n",
    "    data = []\n",
    "    for x in tqdm(ds[\"audio\"]):\n",
    "        preds = classifier(x[\"array\"], candidate_labels=classes)\n",
    "        preds.sort(key=lambda x: x[\"label\"])\n",
    "        data.append([x[\"score\"] for x in preds])\n",
    "\n",
    "    data = np.array(data)\n",
    "    \n",
    "    df = pd.DataFrame(\n",
    "        zip(\n",
    "            ds[\"slice_file_name\"],\n",
    "            ds[\"class\"],\n",
    "            *data.T\n",
    "        ),\n",
    "        columns=[\"filename\", \"label\"] + classes\n",
    "    )\n",
    "\n",
    "    return df"
   ]
  },
  {
   "cell_type": "code",
   "execution_count": 7,
   "id": "c133579a-54be-4015-ae05-24dca0f91b42",
   "metadata": {},
   "outputs": [
    {
     "data": {
      "application/vnd.jupyter.widget-view+json": {
       "model_id": "1036ecdea11241e099517bf1bf59b2a6",
       "version_major": 2,
       "version_minor": 0
      },
      "text/plain": [
       "  0%|          | 0/1310 [00:00<?, ?it/s]"
      ]
     },
     "metadata": {},
     "output_type": "display_data"
    },
    {
     "name": "stdout",
     "output_type": "stream",
     "text": [
      "1310\n"
     ]
    },
    {
     "data": {
      "text/html": [
       "<div>\n",
       "<style scoped>\n",
       "    .dataframe tbody tr th:only-of-type {\n",
       "        vertical-align: middle;\n",
       "    }\n",
       "\n",
       "    .dataframe tbody tr th {\n",
       "        vertical-align: top;\n",
       "    }\n",
       "\n",
       "    .dataframe thead th {\n",
       "        text-align: right;\n",
       "    }\n",
       "</style>\n",
       "<table border=\"1\" class=\"dataframe\">\n",
       "  <thead>\n",
       "    <tr style=\"text-align: right;\">\n",
       "      <th></th>\n",
       "      <th>filename</th>\n",
       "      <th>label</th>\n",
       "      <th>air_conditioner</th>\n",
       "      <th>car_horn</th>\n",
       "      <th>children_playing</th>\n",
       "      <th>dog_bark</th>\n",
       "      <th>drilling</th>\n",
       "      <th>engine_idling</th>\n",
       "      <th>gun_shot</th>\n",
       "      <th>jackhammer</th>\n",
       "      <th>siren</th>\n",
       "      <th>street_music</th>\n",
       "    </tr>\n",
       "  </thead>\n",
       "  <tbody>\n",
       "    <tr>\n",
       "      <th>0</th>\n",
       "      <td>49312-2-0-16.wav</td>\n",
       "      <td>children_playing</td>\n",
       "      <td>0.000002</td>\n",
       "      <td>0.000055</td>\n",
       "      <td>0.998321</td>\n",
       "      <td>0.000009</td>\n",
       "      <td>0.000008</td>\n",
       "      <td>0.000026</td>\n",
       "      <td>0.000020</td>\n",
       "      <td>0.000058</td>\n",
       "      <td>0.000319</td>\n",
       "      <td>0.001182</td>\n",
       "    </tr>\n",
       "    <tr>\n",
       "      <th>1</th>\n",
       "      <td>169466-4-3-9.wav</td>\n",
       "      <td>drilling</td>\n",
       "      <td>0.001141</td>\n",
       "      <td>0.007098</td>\n",
       "      <td>0.070889</td>\n",
       "      <td>0.002817</td>\n",
       "      <td>0.007584</td>\n",
       "      <td>0.017082</td>\n",
       "      <td>0.074979</td>\n",
       "      <td>0.751844</td>\n",
       "      <td>0.022784</td>\n",
       "      <td>0.043782</td>\n",
       "    </tr>\n",
       "    <tr>\n",
       "      <th>2</th>\n",
       "      <td>39884-5-0-1.wav</td>\n",
       "      <td>engine_idling</td>\n",
       "      <td>0.002819</td>\n",
       "      <td>0.009947</td>\n",
       "      <td>0.000048</td>\n",
       "      <td>0.000188</td>\n",
       "      <td>0.000043</td>\n",
       "      <td>0.986275</td>\n",
       "      <td>0.000053</td>\n",
       "      <td>0.000401</td>\n",
       "      <td>0.000083</td>\n",
       "      <td>0.000142</td>\n",
       "    </tr>\n",
       "    <tr>\n",
       "      <th>3</th>\n",
       "      <td>167701-4-6-4.wav</td>\n",
       "      <td>drilling</td>\n",
       "      <td>0.001359</td>\n",
       "      <td>0.214464</td>\n",
       "      <td>0.002815</td>\n",
       "      <td>0.001745</td>\n",
       "      <td>0.308239</td>\n",
       "      <td>0.056742</td>\n",
       "      <td>0.000485</td>\n",
       "      <td>0.388747</td>\n",
       "      <td>0.022160</td>\n",
       "      <td>0.003244</td>\n",
       "    </tr>\n",
       "    <tr>\n",
       "      <th>4</th>\n",
       "      <td>24347-8-0-48.wav</td>\n",
       "      <td>siren</td>\n",
       "      <td>0.000002</td>\n",
       "      <td>0.005404</td>\n",
       "      <td>0.000871</td>\n",
       "      <td>0.000463</td>\n",
       "      <td>0.000141</td>\n",
       "      <td>0.000293</td>\n",
       "      <td>0.000019</td>\n",
       "      <td>0.000097</td>\n",
       "      <td>0.914580</td>\n",
       "      <td>0.078131</td>\n",
       "    </tr>\n",
       "  </tbody>\n",
       "</table>\n",
       "</div>"
      ],
      "text/plain": [
       "           filename             label  air_conditioner  car_horn  \\\n",
       "0  49312-2-0-16.wav  children_playing         0.000002  0.000055   \n",
       "1  169466-4-3-9.wav          drilling         0.001141  0.007098   \n",
       "2   39884-5-0-1.wav     engine_idling         0.002819  0.009947   \n",
       "3  167701-4-6-4.wav          drilling         0.001359  0.214464   \n",
       "4  24347-8-0-48.wav             siren         0.000002  0.005404   \n",
       "\n",
       "   children_playing  dog_bark  drilling  engine_idling  gun_shot  jackhammer  \\\n",
       "0          0.998321  0.000009  0.000008       0.000026  0.000020    0.000058   \n",
       "1          0.070889  0.002817  0.007584       0.017082  0.074979    0.751844   \n",
       "2          0.000048  0.000188  0.000043       0.986275  0.000053    0.000401   \n",
       "3          0.002815  0.001745  0.308239       0.056742  0.000485    0.388747   \n",
       "4          0.000871  0.000463  0.000141       0.000293  0.000019    0.000097   \n",
       "\n",
       "      siren  street_music  \n",
       "0  0.000319      0.001182  \n",
       "1  0.022784      0.043782  \n",
       "2  0.000083      0.000142  \n",
       "3  0.022160      0.003244  \n",
       "4  0.914580      0.078131  "
      ]
     },
     "execution_count": 7,
     "metadata": {},
     "output_type": "execute_result"
    }
   ],
   "source": [
    "df_preds_valid = get_predictions(dataset[\"valid\"])\n",
    "print(len(df_preds_valid))\n",
    "df_preds_valid.head()"
   ]
  },
  {
   "cell_type": "code",
   "execution_count": 8,
   "id": "aee48036-bb9b-4f85-8b1a-9ad5cebaaa1c",
   "metadata": {},
   "outputs": [],
   "source": [
    "df_preds_valid.to_csv(\"preds/clap-valid.csv\", index=False)"
   ]
  },
  {
   "cell_type": "code",
   "execution_count": 17,
   "id": "515f0058-5459-44cd-b1cc-ae7f4a215c0e",
   "metadata": {
    "tags": []
   },
   "outputs": [
    {
     "data": {
      "application/vnd.jupyter.widget-view+json": {
       "model_id": "fde1b4fe3cc242df97fa8de721d0ccfc",
       "version_major": 2,
       "version_minor": 0
      },
      "text/plain": [
       "  0%|          | 0/1310 [00:00<?, ?it/s]"
      ]
     },
     "metadata": {},
     "output_type": "display_data"
    },
    {
     "name": "stdout",
     "output_type": "stream",
     "text": [
      "1310\n"
     ]
    },
    {
     "data": {
      "text/html": [
       "<div>\n",
       "<style scoped>\n",
       "    .dataframe tbody tr th:only-of-type {\n",
       "        vertical-align: middle;\n",
       "    }\n",
       "\n",
       "    .dataframe tbody tr th {\n",
       "        vertical-align: top;\n",
       "    }\n",
       "\n",
       "    .dataframe thead th {\n",
       "        text-align: right;\n",
       "    }\n",
       "</style>\n",
       "<table border=\"1\" class=\"dataframe\">\n",
       "  <thead>\n",
       "    <tr style=\"text-align: right;\">\n",
       "      <th></th>\n",
       "      <th>filename</th>\n",
       "      <th>label</th>\n",
       "      <th>air_conditioner</th>\n",
       "      <th>car_horn</th>\n",
       "      <th>children_playing</th>\n",
       "      <th>dog_bark</th>\n",
       "      <th>drilling</th>\n",
       "      <th>engine_idling</th>\n",
       "      <th>gun_shot</th>\n",
       "      <th>jackhammer</th>\n",
       "      <th>siren</th>\n",
       "      <th>street_music</th>\n",
       "    </tr>\n",
       "  </thead>\n",
       "  <tbody>\n",
       "    <tr>\n",
       "      <th>0</th>\n",
       "      <td>164797-2-0-50.wav</td>\n",
       "      <td>children_playing</td>\n",
       "      <td>2.943992e-03</td>\n",
       "      <td>0.008064</td>\n",
       "      <td>0.952775</td>\n",
       "      <td>4.795736e-04</td>\n",
       "      <td>0.000026</td>\n",
       "      <td>0.000759</td>\n",
       "      <td>0.000759</td>\n",
       "      <td>0.000116</td>\n",
       "      <td>0.005448</td>\n",
       "      <td>0.028630</td>\n",
       "    </tr>\n",
       "    <tr>\n",
       "      <th>1</th>\n",
       "      <td>17578-5-0-23.wav</td>\n",
       "      <td>engine_idling</td>\n",
       "      <td>2.189460e-02</td>\n",
       "      <td>0.000205</td>\n",
       "      <td>0.000026</td>\n",
       "      <td>1.846368e-04</td>\n",
       "      <td>0.000476</td>\n",
       "      <td>0.965558</td>\n",
       "      <td>0.000054</td>\n",
       "      <td>0.011473</td>\n",
       "      <td>0.000051</td>\n",
       "      <td>0.000077</td>\n",
       "    </tr>\n",
       "    <tr>\n",
       "      <th>2</th>\n",
       "      <td>207214-2-0-26.wav</td>\n",
       "      <td>children_playing</td>\n",
       "      <td>3.995908e-06</td>\n",
       "      <td>0.000179</td>\n",
       "      <td>0.992761</td>\n",
       "      <td>2.809861e-06</td>\n",
       "      <td>0.000009</td>\n",
       "      <td>0.000101</td>\n",
       "      <td>0.000042</td>\n",
       "      <td>0.000007</td>\n",
       "      <td>0.000857</td>\n",
       "      <td>0.006037</td>\n",
       "    </tr>\n",
       "    <tr>\n",
       "      <th>3</th>\n",
       "      <td>14470-2-0-14.wav</td>\n",
       "      <td>children_playing</td>\n",
       "      <td>9.924141e-08</td>\n",
       "      <td>0.000002</td>\n",
       "      <td>0.999881</td>\n",
       "      <td>4.821749e-07</td>\n",
       "      <td>0.000002</td>\n",
       "      <td>0.000003</td>\n",
       "      <td>0.000018</td>\n",
       "      <td>0.000042</td>\n",
       "      <td>0.000008</td>\n",
       "      <td>0.000044</td>\n",
       "    </tr>\n",
       "    <tr>\n",
       "      <th>4</th>\n",
       "      <td>93567-8-0-17.wav</td>\n",
       "      <td>siren</td>\n",
       "      <td>1.587656e-06</td>\n",
       "      <td>0.006024</td>\n",
       "      <td>0.000153</td>\n",
       "      <td>1.106603e-04</td>\n",
       "      <td>0.000015</td>\n",
       "      <td>0.000010</td>\n",
       "      <td>0.000009</td>\n",
       "      <td>0.000016</td>\n",
       "      <td>0.984928</td>\n",
       "      <td>0.008732</td>\n",
       "    </tr>\n",
       "  </tbody>\n",
       "</table>\n",
       "</div>"
      ],
      "text/plain": [
       "            filename             label  air_conditioner  car_horn  \\\n",
       "0  164797-2-0-50.wav  children_playing     2.943992e-03  0.008064   \n",
       "1   17578-5-0-23.wav     engine_idling     2.189460e-02  0.000205   \n",
       "2  207214-2-0-26.wav  children_playing     3.995908e-06  0.000179   \n",
       "3   14470-2-0-14.wav  children_playing     9.924141e-08  0.000002   \n",
       "4   93567-8-0-17.wav             siren     1.587656e-06  0.006024   \n",
       "\n",
       "   children_playing      dog_bark  drilling  engine_idling  gun_shot  \\\n",
       "0          0.952775  4.795736e-04  0.000026       0.000759  0.000759   \n",
       "1          0.000026  1.846368e-04  0.000476       0.965558  0.000054   \n",
       "2          0.992761  2.809861e-06  0.000009       0.000101  0.000042   \n",
       "3          0.999881  4.821749e-07  0.000002       0.000003  0.000018   \n",
       "4          0.000153  1.106603e-04  0.000015       0.000010  0.000009   \n",
       "\n",
       "   jackhammer     siren  street_music  \n",
       "0    0.000116  0.005448      0.028630  \n",
       "1    0.011473  0.000051      0.000077  \n",
       "2    0.000007  0.000857      0.006037  \n",
       "3    0.000042  0.000008      0.000044  \n",
       "4    0.000016  0.984928      0.008732  "
      ]
     },
     "execution_count": 17,
     "metadata": {},
     "output_type": "execute_result"
    }
   ],
   "source": [
    "df_preds_test = get_predictions(dataset[\"test\"])\n",
    "print(len(df_preds_test))\n",
    "df_preds_test.head()"
   ]
  },
  {
   "cell_type": "code",
   "execution_count": 18,
   "id": "26864c53-be9f-4189-b40f-2d0b10e29f38",
   "metadata": {},
   "outputs": [],
   "source": [
    "df_preds_test.to_csv(\"preds/clap-test.csv\", index=False)"
   ]
  },
  {
   "cell_type": "code",
   "execution_count": null,
   "id": "e56e3d1a-b3f0-4de5-ab74-284c22d9d602",
   "metadata": {},
   "outputs": [],
   "source": []
  },
  {
   "cell_type": "code",
   "execution_count": null,
   "id": "3c100a6f-90e0-492b-aca1-cccf30cb6584",
   "metadata": {},
   "outputs": [],
   "source": []
  }
 ],
 "metadata": {
  "kernelspec": {
   "display_name": "Python 3",
   "language": "python",
   "name": "python3"
  },
  "language_info": {
   "codemirror_mode": {
    "name": "ipython",
    "version": 3
   },
   "file_extension": ".py",
   "mimetype": "text/x-python",
   "name": "python",
   "nbconvert_exporter": "python",
   "pygments_lexer": "ipython3",
   "version": "3.9.12"
  }
 },
 "nbformat": 4,
 "nbformat_minor": 5
}
