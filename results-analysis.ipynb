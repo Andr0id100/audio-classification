{
 "cells": [
  {
   "cell_type": "markdown",
   "id": "1bc6f2d1-cf20-438b-9a06-c98f66263ec2",
   "metadata": {},
   "source": [
    "Note: Each model is presented as an independent section for better isolation and ease of understanding"
   ]
  },
  {
   "cell_type": "code",
   "execution_count": 1,
   "id": "960a4ca0-0fff-4724-b7c2-86739ee73a67",
   "metadata": {},
   "outputs": [],
   "source": [
    "def get_metrics(labels, preds):\n",
    "    data_metrics = []\n",
    "    for metric in metrics:\n",
    "        metric_name = metric.__name__\n",
    "        if metric_name == \"accuracy_score\":\n",
    "            data_metrics.append((metric_name, metric(labels, preds)))\n",
    "        else:\n",
    "            data_metrics.append((metric_name, metric(labels, preds, average=\"macro\")))\n",
    "\n",
    "    return pd.DataFrame(data_metrics, columns=[\"metric\", \"value\"])"
   ]
  },
  {
   "cell_type": "markdown",
   "id": "6132186e-fe32-458d-bb0b-a56434272783",
   "metadata": {},
   "source": [
    "# Baseline\n",
    "Before conducting any experiments, it's important to establish a simple baseline. This helps in making decisions about the model performance in the early stages of development"
   ]
  },
  {
   "cell_type": "code",
   "execution_count": 2,
   "id": "2e740f19-f2fe-4292-841c-ffc2eb9f1720",
   "metadata": {},
   "outputs": [],
   "source": [
    "import pandas as pd\n",
    "from sklearn.metrics import precision_score, recall_score, f1_score, accuracy_score\n",
    "from sklearn.metrics import confusion_matrix, ConfusionMatrixDisplay\n",
    "import numpy as np\n",
    "from tqdm.notebook import tqdm\n",
    "import matplotlib.pyplot as plt"
   ]
  },
  {
   "cell_type": "code",
   "execution_count": 3,
   "id": "d9cbf7df-347e-473b-94f2-73080288cfe5",
   "metadata": {},
   "outputs": [],
   "source": [
    "plt.style.use(\"ggplot\")"
   ]
  },
  {
   "cell_type": "code",
   "execution_count": 4,
   "id": "38316719-4632-4014-a157-f2f214ad684c",
   "metadata": {},
   "outputs": [
    {
     "name": "stdout",
     "output_type": "stream",
     "text": [
      "1310\n"
     ]
    },
    {
     "data": {
      "text/html": [
       "<div>\n",
       "<style scoped>\n",
       "    .dataframe tbody tr th:only-of-type {\n",
       "        vertical-align: middle;\n",
       "    }\n",
       "\n",
       "    .dataframe tbody tr th {\n",
       "        vertical-align: top;\n",
       "    }\n",
       "\n",
       "    .dataframe thead th {\n",
       "        text-align: right;\n",
       "    }\n",
       "</style>\n",
       "<table border=\"1\" class=\"dataframe\">\n",
       "  <thead>\n",
       "    <tr style=\"text-align: right;\">\n",
       "      <th></th>\n",
       "      <th>filename</th>\n",
       "      <th>label</th>\n",
       "      <th>air_conditioner</th>\n",
       "      <th>car_horn</th>\n",
       "      <th>children_playing</th>\n",
       "      <th>dog_bark</th>\n",
       "      <th>drilling</th>\n",
       "      <th>engine_idling</th>\n",
       "      <th>gun_shot</th>\n",
       "      <th>jackhammer</th>\n",
       "      <th>siren</th>\n",
       "      <th>street_music</th>\n",
       "    </tr>\n",
       "  </thead>\n",
       "  <tbody>\n",
       "    <tr>\n",
       "      <th>0</th>\n",
       "      <td>164797-2-0-50.wav</td>\n",
       "      <td>children_playing</td>\n",
       "      <td>8.866575e-01</td>\n",
       "      <td>0.000009</td>\n",
       "      <td>3.810622e-02</td>\n",
       "      <td>0.029240</td>\n",
       "      <td>0.000039</td>\n",
       "      <td>3.133511e-03</td>\n",
       "      <td>1.770535e-03</td>\n",
       "      <td>3.316693e-09</td>\n",
       "      <td>0.021471</td>\n",
       "      <td>0.019573</td>\n",
       "    </tr>\n",
       "    <tr>\n",
       "      <th>1</th>\n",
       "      <td>17578-5-0-23.wav</td>\n",
       "      <td>engine_idling</td>\n",
       "      <td>5.985906e-05</td>\n",
       "      <td>0.000453</td>\n",
       "      <td>1.342414e-03</td>\n",
       "      <td>0.000029</td>\n",
       "      <td>0.002079</td>\n",
       "      <td>9.932372e-01</td>\n",
       "      <td>1.256412e-07</td>\n",
       "      <td>1.857425e-03</td>\n",
       "      <td>0.000045</td>\n",
       "      <td>0.000897</td>\n",
       "    </tr>\n",
       "    <tr>\n",
       "      <th>2</th>\n",
       "      <td>207214-2-0-26.wav</td>\n",
       "      <td>children_playing</td>\n",
       "      <td>1.128041e-02</td>\n",
       "      <td>0.002365</td>\n",
       "      <td>5.206296e-01</td>\n",
       "      <td>0.112187</td>\n",
       "      <td>0.049140</td>\n",
       "      <td>1.356505e-02</td>\n",
       "      <td>1.159514e-01</td>\n",
       "      <td>7.473872e-04</td>\n",
       "      <td>0.024246</td>\n",
       "      <td>0.149889</td>\n",
       "    </tr>\n",
       "    <tr>\n",
       "      <th>3</th>\n",
       "      <td>14470-2-0-14.wav</td>\n",
       "      <td>children_playing</td>\n",
       "      <td>8.298853e-06</td>\n",
       "      <td>0.000204</td>\n",
       "      <td>8.744751e-01</td>\n",
       "      <td>0.038185</td>\n",
       "      <td>0.012411</td>\n",
       "      <td>1.595363e-03</td>\n",
       "      <td>1.817845e-02</td>\n",
       "      <td>1.478383e-06</td>\n",
       "      <td>0.033734</td>\n",
       "      <td>0.021208</td>\n",
       "    </tr>\n",
       "    <tr>\n",
       "      <th>4</th>\n",
       "      <td>93567-8-0-17.wav</td>\n",
       "      <td>siren</td>\n",
       "      <td>1.277176e-15</td>\n",
       "      <td>0.307760</td>\n",
       "      <td>2.747113e-15</td>\n",
       "      <td>0.000004</td>\n",
       "      <td>0.000003</td>\n",
       "      <td>8.254789e-11</td>\n",
       "      <td>3.924732e-10</td>\n",
       "      <td>3.239344e-14</td>\n",
       "      <td>0.692206</td>\n",
       "      <td>0.000027</td>\n",
       "    </tr>\n",
       "  </tbody>\n",
       "</table>\n",
       "</div>"
      ],
      "text/plain": [
       "            filename             label  air_conditioner  car_horn  \\\n",
       "0  164797-2-0-50.wav  children_playing     8.866575e-01  0.000009   \n",
       "1   17578-5-0-23.wav     engine_idling     5.985906e-05  0.000453   \n",
       "2  207214-2-0-26.wav  children_playing     1.128041e-02  0.002365   \n",
       "3   14470-2-0-14.wav  children_playing     8.298853e-06  0.000204   \n",
       "4   93567-8-0-17.wav             siren     1.277176e-15  0.307760   \n",
       "\n",
       "   children_playing  dog_bark  drilling  engine_idling      gun_shot  \\\n",
       "0      3.810622e-02  0.029240  0.000039   3.133511e-03  1.770535e-03   \n",
       "1      1.342414e-03  0.000029  0.002079   9.932372e-01  1.256412e-07   \n",
       "2      5.206296e-01  0.112187  0.049140   1.356505e-02  1.159514e-01   \n",
       "3      8.744751e-01  0.038185  0.012411   1.595363e-03  1.817845e-02   \n",
       "4      2.747113e-15  0.000004  0.000003   8.254789e-11  3.924732e-10   \n",
       "\n",
       "     jackhammer     siren  street_music  \n",
       "0  3.316693e-09  0.021471      0.019573  \n",
       "1  1.857425e-03  0.000045      0.000897  \n",
       "2  7.473872e-04  0.024246      0.149889  \n",
       "3  1.478383e-06  0.033734      0.021208  \n",
       "4  3.239344e-14  0.692206      0.000027  "
      ]
     },
     "execution_count": 4,
     "metadata": {},
     "output_type": "execute_result"
    }
   ],
   "source": [
    "df_test = pd.read_csv(\"preds/mfcc-test.csv\")\n",
    "print(len(df_test))\n",
    "df_test.head()"
   ]
  },
  {
   "cell_type": "code",
   "execution_count": 5,
   "id": "70bf971a-0b98-4469-b7ad-5dade8c2178b",
   "metadata": {},
   "outputs": [],
   "source": [
    "classes = df_test.label.sort_values().unique()"
   ]
  },
  {
   "cell_type": "code",
   "execution_count": 6,
   "id": "4994ceea-1241-4bf9-9049-32178c15e996",
   "metadata": {},
   "outputs": [],
   "source": [
    "metrics = [precision_score, recall_score, f1_score, accuracy_score]"
   ]
  },
  {
   "cell_type": "code",
   "execution_count": 7,
   "id": "963e13dc-c450-40ce-aebd-1fe04af6ee82",
   "metadata": {},
   "outputs": [],
   "source": [
    "preds = df_test[classes].idxmax(axis=1)"
   ]
  },
  {
   "cell_type": "code",
   "execution_count": 8,
   "id": "254734b2-17c0-41ff-9559-51aba54407e8",
   "metadata": {},
   "outputs": [
    {
     "data": {
      "text/html": [
       "<div>\n",
       "<style scoped>\n",
       "    .dataframe tbody tr th:only-of-type {\n",
       "        vertical-align: middle;\n",
       "    }\n",
       "\n",
       "    .dataframe tbody tr th {\n",
       "        vertical-align: top;\n",
       "    }\n",
       "\n",
       "    .dataframe thead th {\n",
       "        text-align: right;\n",
       "    }\n",
       "</style>\n",
       "<table border=\"1\" class=\"dataframe\">\n",
       "  <thead>\n",
       "    <tr style=\"text-align: right;\">\n",
       "      <th></th>\n",
       "      <th>metric</th>\n",
       "      <th>value</th>\n",
       "    </tr>\n",
       "  </thead>\n",
       "  <tbody>\n",
       "    <tr>\n",
       "      <th>0</th>\n",
       "      <td>precision_score</td>\n",
       "      <td>0.693671</td>\n",
       "    </tr>\n",
       "    <tr>\n",
       "      <th>1</th>\n",
       "      <td>recall_score</td>\n",
       "      <td>0.665230</td>\n",
       "    </tr>\n",
       "    <tr>\n",
       "      <th>2</th>\n",
       "      <td>f1_score</td>\n",
       "      <td>0.670525</td>\n",
       "    </tr>\n",
       "    <tr>\n",
       "      <th>3</th>\n",
       "      <td>accuracy_score</td>\n",
       "      <td>0.690840</td>\n",
       "    </tr>\n",
       "  </tbody>\n",
       "</table>\n",
       "</div>"
      ],
      "text/plain": [
       "            metric     value\n",
       "0  precision_score  0.693671\n",
       "1     recall_score  0.665230\n",
       "2         f1_score  0.670525\n",
       "3   accuracy_score  0.690840"
      ]
     },
     "execution_count": 8,
     "metadata": {},
     "output_type": "execute_result"
    }
   ],
   "source": [
    "get_metrics(df_test.label, preds)"
   ]
  },
  {
   "cell_type": "markdown",
   "id": "f4fd0fad-92c5-4d39-9033-6803c8b0e9d6",
   "metadata": {},
   "source": [
    "This is a decent baseline to compare our models against."
   ]
  },
  {
   "cell_type": "markdown",
   "id": "29e69be1-57f8-474d-8e3a-1dd72e4d7135",
   "metadata": {
    "tags": []
   },
   "source": [
    "# Zero Shot (CLAP) Evaluation"
   ]
  },
  {
   "cell_type": "code",
   "execution_count": 9,
   "id": "6a243225-5a08-42e8-9baf-0ad897a15f88",
   "metadata": {},
   "outputs": [],
   "source": [
    "import pandas as pd\n",
    "from sklearn.metrics import precision_score, recall_score, f1_score, accuracy_score\n",
    "import numpy as np\n",
    "from tqdm.notebook import tqdm\n",
    "import matplotlib.pyplot as plt"
   ]
  },
  {
   "cell_type": "code",
   "execution_count": 10,
   "id": "64403296-78f6-4d0e-b89c-d84a38f40415",
   "metadata": {},
   "outputs": [],
   "source": [
    "plt.style.use(\"ggplot\")"
   ]
  },
  {
   "cell_type": "code",
   "execution_count": 11,
   "id": "7a0e6460-f800-4551-935c-e077fbab53be",
   "metadata": {},
   "outputs": [
    {
     "name": "stdout",
     "output_type": "stream",
     "text": [
      "1310\n"
     ]
    },
    {
     "data": {
      "text/html": [
       "<div>\n",
       "<style scoped>\n",
       "    .dataframe tbody tr th:only-of-type {\n",
       "        vertical-align: middle;\n",
       "    }\n",
       "\n",
       "    .dataframe tbody tr th {\n",
       "        vertical-align: top;\n",
       "    }\n",
       "\n",
       "    .dataframe thead th {\n",
       "        text-align: right;\n",
       "    }\n",
       "</style>\n",
       "<table border=\"1\" class=\"dataframe\">\n",
       "  <thead>\n",
       "    <tr style=\"text-align: right;\">\n",
       "      <th></th>\n",
       "      <th>filename</th>\n",
       "      <th>label</th>\n",
       "      <th>air_conditioner</th>\n",
       "      <th>car_horn</th>\n",
       "      <th>children_playing</th>\n",
       "      <th>dog_bark</th>\n",
       "      <th>drilling</th>\n",
       "      <th>engine_idling</th>\n",
       "      <th>gun_shot</th>\n",
       "      <th>jackhammer</th>\n",
       "      <th>siren</th>\n",
       "      <th>street_music</th>\n",
       "    </tr>\n",
       "  </thead>\n",
       "  <tbody>\n",
       "    <tr>\n",
       "      <th>0</th>\n",
       "      <td>164797-2-0-50.wav</td>\n",
       "      <td>children_playing</td>\n",
       "      <td>2.943992e-03</td>\n",
       "      <td>0.008064</td>\n",
       "      <td>0.952775</td>\n",
       "      <td>4.795736e-04</td>\n",
       "      <td>0.000026</td>\n",
       "      <td>0.000759</td>\n",
       "      <td>0.000759</td>\n",
       "      <td>0.000116</td>\n",
       "      <td>0.005448</td>\n",
       "      <td>0.028630</td>\n",
       "    </tr>\n",
       "    <tr>\n",
       "      <th>1</th>\n",
       "      <td>17578-5-0-23.wav</td>\n",
       "      <td>engine_idling</td>\n",
       "      <td>2.189460e-02</td>\n",
       "      <td>0.000205</td>\n",
       "      <td>0.000026</td>\n",
       "      <td>1.846368e-04</td>\n",
       "      <td>0.000476</td>\n",
       "      <td>0.965558</td>\n",
       "      <td>0.000054</td>\n",
       "      <td>0.011473</td>\n",
       "      <td>0.000051</td>\n",
       "      <td>0.000077</td>\n",
       "    </tr>\n",
       "    <tr>\n",
       "      <th>2</th>\n",
       "      <td>207214-2-0-26.wav</td>\n",
       "      <td>children_playing</td>\n",
       "      <td>3.995908e-06</td>\n",
       "      <td>0.000179</td>\n",
       "      <td>0.992761</td>\n",
       "      <td>2.809861e-06</td>\n",
       "      <td>0.000009</td>\n",
       "      <td>0.000101</td>\n",
       "      <td>0.000042</td>\n",
       "      <td>0.000007</td>\n",
       "      <td>0.000857</td>\n",
       "      <td>0.006037</td>\n",
       "    </tr>\n",
       "    <tr>\n",
       "      <th>3</th>\n",
       "      <td>14470-2-0-14.wav</td>\n",
       "      <td>children_playing</td>\n",
       "      <td>9.924141e-08</td>\n",
       "      <td>0.000002</td>\n",
       "      <td>0.999881</td>\n",
       "      <td>4.821749e-07</td>\n",
       "      <td>0.000002</td>\n",
       "      <td>0.000003</td>\n",
       "      <td>0.000018</td>\n",
       "      <td>0.000042</td>\n",
       "      <td>0.000008</td>\n",
       "      <td>0.000044</td>\n",
       "    </tr>\n",
       "    <tr>\n",
       "      <th>4</th>\n",
       "      <td>93567-8-0-17.wav</td>\n",
       "      <td>siren</td>\n",
       "      <td>1.587656e-06</td>\n",
       "      <td>0.006024</td>\n",
       "      <td>0.000153</td>\n",
       "      <td>1.106603e-04</td>\n",
       "      <td>0.000015</td>\n",
       "      <td>0.000010</td>\n",
       "      <td>0.000009</td>\n",
       "      <td>0.000016</td>\n",
       "      <td>0.984928</td>\n",
       "      <td>0.008732</td>\n",
       "    </tr>\n",
       "  </tbody>\n",
       "</table>\n",
       "</div>"
      ],
      "text/plain": [
       "            filename             label  air_conditioner  car_horn  \\\n",
       "0  164797-2-0-50.wav  children_playing     2.943992e-03  0.008064   \n",
       "1   17578-5-0-23.wav     engine_idling     2.189460e-02  0.000205   \n",
       "2  207214-2-0-26.wav  children_playing     3.995908e-06  0.000179   \n",
       "3   14470-2-0-14.wav  children_playing     9.924141e-08  0.000002   \n",
       "4   93567-8-0-17.wav             siren     1.587656e-06  0.006024   \n",
       "\n",
       "   children_playing      dog_bark  drilling  engine_idling  gun_shot  \\\n",
       "0          0.952775  4.795736e-04  0.000026       0.000759  0.000759   \n",
       "1          0.000026  1.846368e-04  0.000476       0.965558  0.000054   \n",
       "2          0.992761  2.809861e-06  0.000009       0.000101  0.000042   \n",
       "3          0.999881  4.821749e-07  0.000002       0.000003  0.000018   \n",
       "4          0.000153  1.106603e-04  0.000015       0.000010  0.000009   \n",
       "\n",
       "   jackhammer     siren  street_music  \n",
       "0    0.000116  0.005448      0.028630  \n",
       "1    0.011473  0.000051      0.000077  \n",
       "2    0.000007  0.000857      0.006037  \n",
       "3    0.000042  0.000008      0.000044  \n",
       "4    0.000016  0.984928      0.008732  "
      ]
     },
     "execution_count": 11,
     "metadata": {},
     "output_type": "execute_result"
    }
   ],
   "source": [
    "df_test = pd.read_csv(\"preds/clap-test.csv\")\n",
    "print(len(df_test))\n",
    "df_test.head()"
   ]
  },
  {
   "cell_type": "code",
   "execution_count": 12,
   "id": "6c74c5e1-fdf6-454f-8c7a-fe2badaac35c",
   "metadata": {},
   "outputs": [],
   "source": [
    "classes = df_test.label.sort_values().unique()"
   ]
  },
  {
   "cell_type": "code",
   "execution_count": 13,
   "id": "1d7aaebd-9069-408d-b03a-318ccea621f7",
   "metadata": {},
   "outputs": [],
   "source": [
    "metrics = [precision_score, recall_score, f1_score, accuracy_score]"
   ]
  },
  {
   "cell_type": "markdown",
   "id": "dcd1f7a5-cae5-44a1-8e76-ce558a148cf6",
   "metadata": {
    "tags": []
   },
   "source": [
    "## Selecting the class with the highest probability\n",
    "The simplest approach to assign classes from the model predictions would be to take the class with the maximum probability"
   ]
  },
  {
   "cell_type": "code",
   "execution_count": 14,
   "id": "dd289e12-e46f-434d-a779-31df3430bcf0",
   "metadata": {},
   "outputs": [],
   "source": [
    "preds = df_test[classes].idxmax(axis=1).to_numpy()"
   ]
  },
  {
   "cell_type": "code",
   "execution_count": 15,
   "id": "bac23956-38f2-4fe9-9cae-9b1fc3029d5b",
   "metadata": {},
   "outputs": [
    {
     "data": {
      "text/html": [
       "<div>\n",
       "<style scoped>\n",
       "    .dataframe tbody tr th:only-of-type {\n",
       "        vertical-align: middle;\n",
       "    }\n",
       "\n",
       "    .dataframe tbody tr th {\n",
       "        vertical-align: top;\n",
       "    }\n",
       "\n",
       "    .dataframe thead th {\n",
       "        text-align: right;\n",
       "    }\n",
       "</style>\n",
       "<table border=\"1\" class=\"dataframe\">\n",
       "  <thead>\n",
       "    <tr style=\"text-align: right;\">\n",
       "      <th></th>\n",
       "      <th>metric</th>\n",
       "      <th>value</th>\n",
       "    </tr>\n",
       "  </thead>\n",
       "  <tbody>\n",
       "    <tr>\n",
       "      <th>0</th>\n",
       "      <td>precision_score</td>\n",
       "      <td>0.789655</td>\n",
       "    </tr>\n",
       "    <tr>\n",
       "      <th>1</th>\n",
       "      <td>recall_score</td>\n",
       "      <td>0.748847</td>\n",
       "    </tr>\n",
       "    <tr>\n",
       "      <th>2</th>\n",
       "      <td>f1_score</td>\n",
       "      <td>0.743472</td>\n",
       "    </tr>\n",
       "    <tr>\n",
       "      <th>3</th>\n",
       "      <td>accuracy_score</td>\n",
       "      <td>0.740458</td>\n",
       "    </tr>\n",
       "  </tbody>\n",
       "</table>\n",
       "</div>"
      ],
      "text/plain": [
       "            metric     value\n",
       "0  precision_score  0.789655\n",
       "1     recall_score  0.748847\n",
       "2         f1_score  0.743472\n",
       "3   accuracy_score  0.740458"
      ]
     },
     "execution_count": 15,
     "metadata": {},
     "output_type": "execute_result"
    }
   ],
   "source": [
    "get_metrics(df_test.label, preds)"
   ]
  },
  {
   "cell_type": "markdown",
   "id": "900aa0d4-1f1f-45ee-981e-d1c694b1cc50",
   "metadata": {},
   "source": [
    "For a zero-shot setting, these are suprisingly good numbers. Without any data provided to the model, it was able to correctly identify the classes in 3/4ths of the test dataset. It even beats the MFCC baseline"
   ]
  },
  {
   "cell_type": "markdown",
   "id": "d76c3a09-2da7-4356-9654-0f293fc5f392",
   "metadata": {
    "jp-MarkdownHeadingCollapsed": true,
    "tags": []
   },
   "source": [
    "## Selecting with threshold\n",
    "A potentially better way of improving the model performance would be use a threshold to filter out predictions where the model is not confident in it's predictions.  \n",
    "We can use a PR curve to determine this threshold. \n",
    "\n",
    "Since we don't want to overfit on the test set, we'll use the validation set for this task"
   ]
  },
  {
   "cell_type": "code",
   "execution_count": 16,
   "id": "0eceec58-9831-4f4c-ab77-d8cec2b8eca6",
   "metadata": {},
   "outputs": [
    {
     "name": "stdout",
     "output_type": "stream",
     "text": [
      "1310\n"
     ]
    },
    {
     "data": {
      "text/html": [
       "<div>\n",
       "<style scoped>\n",
       "    .dataframe tbody tr th:only-of-type {\n",
       "        vertical-align: middle;\n",
       "    }\n",
       "\n",
       "    .dataframe tbody tr th {\n",
       "        vertical-align: top;\n",
       "    }\n",
       "\n",
       "    .dataframe thead th {\n",
       "        text-align: right;\n",
       "    }\n",
       "</style>\n",
       "<table border=\"1\" class=\"dataframe\">\n",
       "  <thead>\n",
       "    <tr style=\"text-align: right;\">\n",
       "      <th></th>\n",
       "      <th>filename</th>\n",
       "      <th>label</th>\n",
       "      <th>air_conditioner</th>\n",
       "      <th>car_horn</th>\n",
       "      <th>children_playing</th>\n",
       "      <th>dog_bark</th>\n",
       "      <th>drilling</th>\n",
       "      <th>engine_idling</th>\n",
       "      <th>gun_shot</th>\n",
       "      <th>jackhammer</th>\n",
       "      <th>siren</th>\n",
       "      <th>street_music</th>\n",
       "    </tr>\n",
       "  </thead>\n",
       "  <tbody>\n",
       "    <tr>\n",
       "      <th>0</th>\n",
       "      <td>49312-2-0-16.wav</td>\n",
       "      <td>children_playing</td>\n",
       "      <td>0.000002</td>\n",
       "      <td>0.000055</td>\n",
       "      <td>0.998321</td>\n",
       "      <td>0.000009</td>\n",
       "      <td>0.000008</td>\n",
       "      <td>0.000026</td>\n",
       "      <td>0.000020</td>\n",
       "      <td>0.000058</td>\n",
       "      <td>0.000319</td>\n",
       "      <td>0.001182</td>\n",
       "    </tr>\n",
       "    <tr>\n",
       "      <th>1</th>\n",
       "      <td>169466-4-3-9.wav</td>\n",
       "      <td>drilling</td>\n",
       "      <td>0.001141</td>\n",
       "      <td>0.007098</td>\n",
       "      <td>0.070889</td>\n",
       "      <td>0.002817</td>\n",
       "      <td>0.007584</td>\n",
       "      <td>0.017082</td>\n",
       "      <td>0.074979</td>\n",
       "      <td>0.751844</td>\n",
       "      <td>0.022784</td>\n",
       "      <td>0.043782</td>\n",
       "    </tr>\n",
       "    <tr>\n",
       "      <th>2</th>\n",
       "      <td>39884-5-0-1.wav</td>\n",
       "      <td>engine_idling</td>\n",
       "      <td>0.002819</td>\n",
       "      <td>0.009947</td>\n",
       "      <td>0.000048</td>\n",
       "      <td>0.000188</td>\n",
       "      <td>0.000043</td>\n",
       "      <td>0.986275</td>\n",
       "      <td>0.000053</td>\n",
       "      <td>0.000401</td>\n",
       "      <td>0.000083</td>\n",
       "      <td>0.000142</td>\n",
       "    </tr>\n",
       "    <tr>\n",
       "      <th>3</th>\n",
       "      <td>167701-4-6-4.wav</td>\n",
       "      <td>drilling</td>\n",
       "      <td>0.001359</td>\n",
       "      <td>0.214464</td>\n",
       "      <td>0.002815</td>\n",
       "      <td>0.001745</td>\n",
       "      <td>0.308239</td>\n",
       "      <td>0.056742</td>\n",
       "      <td>0.000485</td>\n",
       "      <td>0.388747</td>\n",
       "      <td>0.022160</td>\n",
       "      <td>0.003244</td>\n",
       "    </tr>\n",
       "    <tr>\n",
       "      <th>4</th>\n",
       "      <td>24347-8-0-48.wav</td>\n",
       "      <td>siren</td>\n",
       "      <td>0.000002</td>\n",
       "      <td>0.005404</td>\n",
       "      <td>0.000871</td>\n",
       "      <td>0.000463</td>\n",
       "      <td>0.000141</td>\n",
       "      <td>0.000293</td>\n",
       "      <td>0.000019</td>\n",
       "      <td>0.000097</td>\n",
       "      <td>0.914580</td>\n",
       "      <td>0.078131</td>\n",
       "    </tr>\n",
       "  </tbody>\n",
       "</table>\n",
       "</div>"
      ],
      "text/plain": [
       "           filename             label  air_conditioner  car_horn  \\\n",
       "0  49312-2-0-16.wav  children_playing         0.000002  0.000055   \n",
       "1  169466-4-3-9.wav          drilling         0.001141  0.007098   \n",
       "2   39884-5-0-1.wav     engine_idling         0.002819  0.009947   \n",
       "3  167701-4-6-4.wav          drilling         0.001359  0.214464   \n",
       "4  24347-8-0-48.wav             siren         0.000002  0.005404   \n",
       "\n",
       "   children_playing  dog_bark  drilling  engine_idling  gun_shot  jackhammer  \\\n",
       "0          0.998321  0.000009  0.000008       0.000026  0.000020    0.000058   \n",
       "1          0.070889  0.002817  0.007584       0.017082  0.074979    0.751844   \n",
       "2          0.000048  0.000188  0.000043       0.986275  0.000053    0.000401   \n",
       "3          0.002815  0.001745  0.308239       0.056742  0.000485    0.388747   \n",
       "4          0.000871  0.000463  0.000141       0.000293  0.000019    0.000097   \n",
       "\n",
       "      siren  street_music  \n",
       "0  0.000319      0.001182  \n",
       "1  0.022784      0.043782  \n",
       "2  0.000083      0.000142  \n",
       "3  0.022160      0.003244  \n",
       "4  0.914580      0.078131  "
      ]
     },
     "execution_count": 16,
     "metadata": {},
     "output_type": "execute_result"
    }
   ],
   "source": [
    "df_valid = pd.read_csv(\"preds/clap-valid.csv\")\n",
    "print(len(df_valid))\n",
    "df_valid.head()"
   ]
  },
  {
   "cell_type": "code",
   "execution_count": 17,
   "id": "ebe8209a-1549-4c6f-a610-8281d1a68485",
   "metadata": {},
   "outputs": [],
   "source": [
    "data = df_valid[classes].to_numpy()\n",
    "\n",
    "labels = df_valid[\"label\"].tolist()\n",
    "labels_sparse = np.zeros((len(labels), len(classes)))\n",
    "for i in range(len(labels)):\n",
    "    labels_sparse[i] = (classes == labels[i])"
   ]
  },
  {
   "cell_type": "code",
   "execution_count": 18,
   "id": "f90a4e15-a089-444c-b48d-95ed9aeea414",
   "metadata": {},
   "outputs": [],
   "source": [
    "thresholds = [0.01, 0.05] + np.linspace(0.1, 0.9, 9).tolist() + [0.95, 0.99]"
   ]
  },
  {
   "cell_type": "code",
   "execution_count": 19,
   "id": "2c140443-b4c4-4677-81aa-d6e90d328cc9",
   "metadata": {},
   "outputs": [
    {
     "data": {
      "application/vnd.jupyter.widget-view+json": {
       "model_id": "299e47c0dc274c73a8fb33b602bf5539",
       "version_major": 2,
       "version_minor": 0
      },
      "text/plain": [
       "  0%|          | 0/13 [00:00<?, ?it/s]"
      ]
     },
     "metadata": {},
     "output_type": "display_data"
    }
   ],
   "source": [
    "precisions, recalls = [], []\n",
    "\n",
    "for threshold in tqdm(thresholds):\n",
    "    preds = data > threshold\n",
    "    precisions.append(precision_score(labels_sparse, preds, average=\"micro\"))\n",
    "    recalls.append(recall_score(labels_sparse, preds, average=\"micro\"))\n"
   ]
  },
  {
   "cell_type": "code",
   "execution_count": 20,
   "id": "65aa61dc-120d-4928-8450-687e02630bc9",
   "metadata": {},
   "outputs": [
    {
     "data": {
      "image/png": "[encoded data removed]",
      "text/plain": [
       "<Figure size 432x288 with 1 Axes>"
      ]
     },
     "metadata": {},
     "output_type": "display_data"
    }
   ],
   "source": [
    "fig, ax = plt.subplots(1, 1)\n",
    "\n",
    "ax.plot(recalls, precisions, marker='o')\n",
    "\n",
    "ax.set_xlabel(\"Recall\")\n",
    "ax.set_ylabel(\"Precision\")\n",
    "\n",
    "ax.set_title(\"PR Curve\");"
   ]
  },
  {
   "cell_type": "markdown",
   "id": "e071fa01-4cb1-41ba-bb2a-dc5b7bf6e6c7",
   "metadata": {},
   "source": [
    "We can see that the point corresponding to thresholds 0.5 and 0.6 seem to have the best performance"
   ]
  },
  {
   "cell_type": "code",
   "execution_count": 21,
   "id": "163bee57-f0b6-4da3-b5cb-932cf3a1ddfd",
   "metadata": {},
   "outputs": [
    {
     "data": {
      "text/html": [
       "<div>\n",
       "<style scoped>\n",
       "    .dataframe tbody tr th:only-of-type {\n",
       "        vertical-align: middle;\n",
       "    }\n",
       "\n",
       "    .dataframe tbody tr th {\n",
       "        vertical-align: top;\n",
       "    }\n",
       "\n",
       "    .dataframe thead th {\n",
       "        text-align: right;\n",
       "    }\n",
       "</style>\n",
       "<table border=\"1\" class=\"dataframe\">\n",
       "  <thead>\n",
       "    <tr style=\"text-align: right;\">\n",
       "      <th></th>\n",
       "      <th>metric</th>\n",
       "      <th>value</th>\n",
       "    </tr>\n",
       "  </thead>\n",
       "  <tbody>\n",
       "    <tr>\n",
       "      <th>0</th>\n",
       "      <td>precision_score</td>\n",
       "      <td>0.854083</td>\n",
       "    </tr>\n",
       "    <tr>\n",
       "      <th>1</th>\n",
       "      <td>recall_score</td>\n",
       "      <td>0.729168</td>\n",
       "    </tr>\n",
       "    <tr>\n",
       "      <th>2</th>\n",
       "      <td>f1_score</td>\n",
       "      <td>0.761264</td>\n",
       "    </tr>\n",
       "    <tr>\n",
       "      <th>3</th>\n",
       "      <td>accuracy_score</td>\n",
       "      <td>0.725191</td>\n",
       "    </tr>\n",
       "  </tbody>\n",
       "</table>\n",
       "</div>"
      ],
      "text/plain": [
       "            metric     value\n",
       "0  precision_score  0.854083\n",
       "1     recall_score  0.729168\n",
       "2         f1_score  0.761264\n",
       "3   accuracy_score  0.725191"
      ]
     },
     "execution_count": 21,
     "metadata": {},
     "output_type": "execute_result"
    }
   ],
   "source": [
    "threshold = 0.55\n",
    "preds = data > threshold\n",
    "get_metrics(labels_sparse, preds)"
   ]
  },
  {
   "cell_type": "markdown",
   "id": "ed679e36-4e5d-4a2d-aa7d-e69926a5db6d",
   "metadata": {},
   "source": [
    "This approach improved the precision with only a slight drop in recall. Consequently, the F1 score also improved. This makes sense as the classification system is now more conservative in it's estimates compared to the earlier version\n",
    "\n",
    "Depending on the task at hand, the loss in recall might be an acceptable trade-off"
   ]
  },
  {
   "cell_type": "markdown",
   "id": "57590ca0-0272-403b-b267-e05fb0bbc601",
   "metadata": {
    "tags": []
   },
   "source": [
    "# Wav2Vec2 Evaluation"
   ]
  },
  {
   "cell_type": "code",
   "execution_count": 22,
   "id": "e626eaa5-d14b-4691-9329-bf1f4999b9b5",
   "metadata": {},
   "outputs": [],
   "source": [
    "import pandas as pd\n",
    "from sklearn.metrics import precision_score, recall_score, f1_score, accuracy_score\n",
    "from sklearn.metrics import confusion_matrix, ConfusionMatrixDisplay\n",
    "import numpy as np\n",
    "from tqdm.notebook import tqdm\n",
    "import matplotlib.pyplot as plt"
   ]
  },
  {
   "cell_type": "code",
   "execution_count": 23,
   "id": "dc3a98b8-a0f7-406a-93ee-7aef57016725",
   "metadata": {},
   "outputs": [],
   "source": [
    "plt.style.use(\"ggplot\")"
   ]
  },
  {
   "cell_type": "code",
   "execution_count": 24,
   "id": "4bbdbdca-fc0b-4662-90ec-e37ba2c85d58",
   "metadata": {},
   "outputs": [
    {
     "name": "stdout",
     "output_type": "stream",
     "text": [
      "1310\n"
     ]
    },
    {
     "data": {
      "text/html": [
       "<div>\n",
       "<style scoped>\n",
       "    .dataframe tbody tr th:only-of-type {\n",
       "        vertical-align: middle;\n",
       "    }\n",
       "\n",
       "    .dataframe tbody tr th {\n",
       "        vertical-align: top;\n",
       "    }\n",
       "\n",
       "    .dataframe thead th {\n",
       "        text-align: right;\n",
       "    }\n",
       "</style>\n",
       "<table border=\"1\" class=\"dataframe\">\n",
       "  <thead>\n",
       "    <tr style=\"text-align: right;\">\n",
       "      <th></th>\n",
       "      <th>filename</th>\n",
       "      <th>label</th>\n",
       "      <th>air_conditioner</th>\n",
       "      <th>car_horn</th>\n",
       "      <th>children_playing</th>\n",
       "      <th>dog_bark</th>\n",
       "      <th>drilling</th>\n",
       "      <th>engine_idling</th>\n",
       "      <th>gun_shot</th>\n",
       "      <th>jackhammer</th>\n",
       "      <th>siren</th>\n",
       "      <th>street_music</th>\n",
       "    </tr>\n",
       "  </thead>\n",
       "  <tbody>\n",
       "    <tr>\n",
       "      <th>0</th>\n",
       "      <td>164797-2-0-50.wav</td>\n",
       "      <td>children_playing</td>\n",
       "      <td>0.103794</td>\n",
       "      <td>0.025038</td>\n",
       "      <td>0.001672</td>\n",
       "      <td>0.009792</td>\n",
       "      <td>0.083255</td>\n",
       "      <td>0.198738</td>\n",
       "      <td>0.000610</td>\n",
       "      <td>0.567548</td>\n",
       "      <td>0.008192</td>\n",
       "      <td>0.001363</td>\n",
       "    </tr>\n",
       "    <tr>\n",
       "      <th>1</th>\n",
       "      <td>17578-5-0-23.wav</td>\n",
       "      <td>engine_idling</td>\n",
       "      <td>0.130853</td>\n",
       "      <td>0.010763</td>\n",
       "      <td>0.000530</td>\n",
       "      <td>0.002195</td>\n",
       "      <td>0.325663</td>\n",
       "      <td>0.178256</td>\n",
       "      <td>0.000008</td>\n",
       "      <td>0.350398</td>\n",
       "      <td>0.000610</td>\n",
       "      <td>0.000723</td>\n",
       "    </tr>\n",
       "    <tr>\n",
       "      <th>2</th>\n",
       "      <td>207214-2-0-26.wav</td>\n",
       "      <td>children_playing</td>\n",
       "      <td>0.047430</td>\n",
       "      <td>0.137011</td>\n",
       "      <td>0.091758</td>\n",
       "      <td>0.021810</td>\n",
       "      <td>0.282318</td>\n",
       "      <td>0.044008</td>\n",
       "      <td>0.005486</td>\n",
       "      <td>0.324151</td>\n",
       "      <td>0.025153</td>\n",
       "      <td>0.020877</td>\n",
       "    </tr>\n",
       "    <tr>\n",
       "      <th>3</th>\n",
       "      <td>14470-2-0-14.wav</td>\n",
       "      <td>children_playing</td>\n",
       "      <td>0.017578</td>\n",
       "      <td>0.089363</td>\n",
       "      <td>0.394020</td>\n",
       "      <td>0.032699</td>\n",
       "      <td>0.047640</td>\n",
       "      <td>0.020995</td>\n",
       "      <td>0.001783</td>\n",
       "      <td>0.010209</td>\n",
       "      <td>0.149561</td>\n",
       "      <td>0.236151</td>\n",
       "    </tr>\n",
       "    <tr>\n",
       "      <th>4</th>\n",
       "      <td>93567-8-0-17.wav</td>\n",
       "      <td>siren</td>\n",
       "      <td>0.004804</td>\n",
       "      <td>0.077267</td>\n",
       "      <td>0.043750</td>\n",
       "      <td>0.029088</td>\n",
       "      <td>0.043984</td>\n",
       "      <td>0.032997</td>\n",
       "      <td>0.000891</td>\n",
       "      <td>0.006753</td>\n",
       "      <td>0.757135</td>\n",
       "      <td>0.003332</td>\n",
       "    </tr>\n",
       "  </tbody>\n",
       "</table>\n",
       "</div>"
      ],
      "text/plain": [
       "            filename             label  air_conditioner  car_horn  \\\n",
       "0  164797-2-0-50.wav  children_playing         0.103794  0.025038   \n",
       "1   17578-5-0-23.wav     engine_idling         0.130853  0.010763   \n",
       "2  207214-2-0-26.wav  children_playing         0.047430  0.137011   \n",
       "3   14470-2-0-14.wav  children_playing         0.017578  0.089363   \n",
       "4   93567-8-0-17.wav             siren         0.004804  0.077267   \n",
       "\n",
       "   children_playing  dog_bark  drilling  engine_idling  gun_shot  jackhammer  \\\n",
       "0          0.001672  0.009792  0.083255       0.198738  0.000610    0.567548   \n",
       "1          0.000530  0.002195  0.325663       0.178256  0.000008    0.350398   \n",
       "2          0.091758  0.021810  0.282318       0.044008  0.005486    0.324151   \n",
       "3          0.394020  0.032699  0.047640       0.020995  0.001783    0.010209   \n",
       "4          0.043750  0.029088  0.043984       0.032997  0.000891    0.006753   \n",
       "\n",
       "      siren  street_music  \n",
       "0  0.008192      0.001363  \n",
       "1  0.000610      0.000723  \n",
       "2  0.025153      0.020877  \n",
       "3  0.149561      0.236151  \n",
       "4  0.757135      0.003332  "
      ]
     },
     "execution_count": 24,
     "metadata": {},
     "output_type": "execute_result"
    }
   ],
   "source": [
    "df_test = pd.read_csv(\"preds/wav2vec2-test.csv\")\n",
    "print(len(df_test))\n",
    "df_test.head()"
   ]
  },
  {
   "cell_type": "code",
   "execution_count": 25,
   "id": "1de7401e-1506-4719-b8e9-9f907e2ffd68",
   "metadata": {},
   "outputs": [],
   "source": [
    "classes = df_test.label.sort_values().unique()"
   ]
  },
  {
   "cell_type": "code",
   "execution_count": 26,
   "id": "edd2ae3f-c747-4650-b855-7ed3ab5c9bf0",
   "metadata": {},
   "outputs": [],
   "source": [
    "metrics = [precision_score, recall_score, f1_score, accuracy_score]"
   ]
  },
  {
   "cell_type": "code",
   "execution_count": 27,
   "id": "7947a072-48af-4d84-8308-4ef2766f9cdf",
   "metadata": {},
   "outputs": [],
   "source": [
    "preds = df_test[classes].idxmax(axis=1)"
   ]
  },
  {
   "cell_type": "code",
   "execution_count": 28,
   "id": "a3f4f355-58ff-4e33-8f4c-9d1a9d390797",
   "metadata": {},
   "outputs": [
    {
     "data": {
      "text/html": [
       "<div>\n",
       "<style scoped>\n",
       "    .dataframe tbody tr th:only-of-type {\n",
       "        vertical-align: middle;\n",
       "    }\n",
       "\n",
       "    .dataframe tbody tr th {\n",
       "        vertical-align: top;\n",
       "    }\n",
       "\n",
       "    .dataframe thead th {\n",
       "        text-align: right;\n",
       "    }\n",
       "</style>\n",
       "<table border=\"1\" class=\"dataframe\">\n",
       "  <thead>\n",
       "    <tr style=\"text-align: right;\">\n",
       "      <th></th>\n",
       "      <th>metric</th>\n",
       "      <th>value</th>\n",
       "    </tr>\n",
       "  </thead>\n",
       "  <tbody>\n",
       "    <tr>\n",
       "      <th>0</th>\n",
       "      <td>precision_score</td>\n",
       "      <td>0.509989</td>\n",
       "    </tr>\n",
       "    <tr>\n",
       "      <th>1</th>\n",
       "      <td>recall_score</td>\n",
       "      <td>0.441267</td>\n",
       "    </tr>\n",
       "    <tr>\n",
       "      <th>2</th>\n",
       "      <td>f1_score</td>\n",
       "      <td>0.433847</td>\n",
       "    </tr>\n",
       "    <tr>\n",
       "      <th>3</th>\n",
       "      <td>accuracy_score</td>\n",
       "      <td>0.435878</td>\n",
       "    </tr>\n",
       "  </tbody>\n",
       "</table>\n",
       "</div>"
      ],
      "text/plain": [
       "            metric     value\n",
       "0  precision_score  0.509989\n",
       "1     recall_score  0.441267\n",
       "2         f1_score  0.433847\n",
       "3   accuracy_score  0.435878"
      ]
     },
     "execution_count": 28,
     "metadata": {},
     "output_type": "execute_result"
    }
   ],
   "source": [
    "get_metrics(df_test.label, preds)"
   ]
  },
  {
   "cell_type": "markdown",
   "id": "466011d4-a22c-470a-9128-93f07b4ce381",
   "metadata": {},
   "source": [
    "This performance clearly leaves a lot to be desired, let's take a look where the model fails by calculating the metrics at class level"
   ]
  },
  {
   "cell_type": "code",
   "execution_count": 29,
   "id": "c819cbc3-7285-45dd-82c7-bd47b085e651",
   "metadata": {},
   "outputs": [
    {
     "data": {
      "text/html": [
       "<div>\n",
       "<style scoped>\n",
       "    .dataframe tbody tr th:only-of-type {\n",
       "        vertical-align: middle;\n",
       "    }\n",
       "\n",
       "    .dataframe tbody tr th {\n",
       "        vertical-align: top;\n",
       "    }\n",
       "\n",
       "    .dataframe thead th {\n",
       "        text-align: right;\n",
       "    }\n",
       "</style>\n",
       "<table border=\"1\" class=\"dataframe\">\n",
       "  <thead>\n",
       "    <tr style=\"text-align: right;\">\n",
       "      <th></th>\n",
       "      <th>class</th>\n",
       "      <th>precision</th>\n",
       "      <th>recall</th>\n",
       "      <th>f1-score</th>\n",
       "    </tr>\n",
       "  </thead>\n",
       "  <tbody>\n",
       "    <tr>\n",
       "      <th>0</th>\n",
       "      <td>car_horn</td>\n",
       "      <td>0.204545</td>\n",
       "      <td>0.130435</td>\n",
       "      <td>0.159292</td>\n",
       "    </tr>\n",
       "    <tr>\n",
       "      <th>1</th>\n",
       "      <td>air_conditioner</td>\n",
       "      <td>0.522727</td>\n",
       "      <td>0.138554</td>\n",
       "      <td>0.219048</td>\n",
       "    </tr>\n",
       "    <tr>\n",
       "      <th>2</th>\n",
       "      <td>engine_idling</td>\n",
       "      <td>0.246201</td>\n",
       "      <td>0.574468</td>\n",
       "      <td>0.344681</td>\n",
       "    </tr>\n",
       "    <tr>\n",
       "      <th>3</th>\n",
       "      <td>drilling</td>\n",
       "      <td>0.294118</td>\n",
       "      <td>0.547945</td>\n",
       "      <td>0.382775</td>\n",
       "    </tr>\n",
       "    <tr>\n",
       "      <th>4</th>\n",
       "      <td>street_music</td>\n",
       "      <td>0.745098</td>\n",
       "      <td>0.260274</td>\n",
       "      <td>0.385787</td>\n",
       "    </tr>\n",
       "    <tr>\n",
       "      <th>5</th>\n",
       "      <td>children_playing</td>\n",
       "      <td>0.612500</td>\n",
       "      <td>0.322368</td>\n",
       "      <td>0.422414</td>\n",
       "    </tr>\n",
       "    <tr>\n",
       "      <th>6</th>\n",
       "      <td>jackhammer</td>\n",
       "      <td>0.421875</td>\n",
       "      <td>0.574468</td>\n",
       "      <td>0.486486</td>\n",
       "    </tr>\n",
       "    <tr>\n",
       "      <th>7</th>\n",
       "      <td>gun_shot</td>\n",
       "      <td>0.589286</td>\n",
       "      <td>0.687500</td>\n",
       "      <td>0.634615</td>\n",
       "    </tr>\n",
       "    <tr>\n",
       "      <th>8</th>\n",
       "      <td>siren</td>\n",
       "      <td>0.739130</td>\n",
       "      <td>0.559211</td>\n",
       "      <td>0.636704</td>\n",
       "    </tr>\n",
       "    <tr>\n",
       "      <th>9</th>\n",
       "      <td>dog_bark</td>\n",
       "      <td>0.724409</td>\n",
       "      <td>0.617450</td>\n",
       "      <td>0.666667</td>\n",
       "    </tr>\n",
       "  </tbody>\n",
       "</table>\n",
       "</div>"
      ],
      "text/plain": [
       "              class  precision    recall  f1-score\n",
       "0          car_horn   0.204545  0.130435  0.159292\n",
       "1   air_conditioner   0.522727  0.138554  0.219048\n",
       "2     engine_idling   0.246201  0.574468  0.344681\n",
       "3          drilling   0.294118  0.547945  0.382775\n",
       "4      street_music   0.745098  0.260274  0.385787\n",
       "5  children_playing   0.612500  0.322368  0.422414\n",
       "6        jackhammer   0.421875  0.574468  0.486486\n",
       "7          gun_shot   0.589286  0.687500  0.634615\n",
       "8             siren   0.739130  0.559211  0.636704\n",
       "9          dog_bark   0.724409  0.617450  0.666667"
      ]
     },
     "execution_count": 29,
     "metadata": {},
     "output_type": "execute_result"
    }
   ],
   "source": [
    "pd.DataFrame(list(zip(\n",
    "    classes, \n",
    "    precision_score(df_test.label, preds, average=None),\n",
    "    recall_score(df_test.label, preds, average=None),\n",
    "    f1_score(df_test.label, preds, average=None),\n",
    "\n",
    ")), columns=[\"class\", \"precision\", \"recall\", \"f1-score\"]).sort_values(\"f1-score\").reset_index(drop=True)"
   ]
  },
  {
   "cell_type": "markdown",
   "id": "294eecc1-2798-4fa5-931c-74f4a8595364",
   "metadata": {},
   "source": [
    "The low precision score for classes like car_horn, engine_idling and drilling tells us that the model is often conflating other classes with them.\n",
    "\n",
    "Making a confusion matrix can help us get more information about this"
   ]
  },
  {
   "cell_type": "code",
   "execution_count": 30,
   "id": "d92a6385-5077-4a41-95cb-2243ee04883f",
   "metadata": {},
   "outputs": [
    {
     "data": {
      "text/plain": [
       "<sklearn.metrics._plot.confusion_matrix.ConfusionMatrixDisplay at 0x14b4c0ac0>"
      ]
     },
     "execution_count": 30,
     "metadata": {},
     "output_type": "execute_result"
    },
    {
     "data": {
      "image/png": "[encoded data removed]",
      "text/plain": [
       "<Figure size 1080x1080 with 2 Axes>"
      ]
     },
     "metadata": {},
     "output_type": "display_data"
    }
   ],
   "source": [
    "fig, ax = plt.subplots(1, 1, figsize=(15, 15))\n",
    "\n",
    "ax.set_title(\"Wav2Vec2\")\n",
    "\n",
    "ConfusionMatrixDisplay(confusion_matrix(df_test.label, preds), display_labels=classes).plot(ax=ax)"
   ]
  },
  {
   "cell_type": "markdown",
   "id": "b4fee903-06d7-4632-8495-93a13a6f40ba",
   "metadata": {},
   "source": [
    "As suspected, the model is often classifying inputs as drilling and engine_idling. "
   ]
  },
  {
   "cell_type": "markdown",
   "id": "beccbea9-6421-4c42-b5d8-7cf706d84e18",
   "metadata": {
    "tags": []
   },
   "source": [
    "# MIT-AudioSet Evaluation"
   ]
  },
  {
   "cell_type": "code",
   "execution_count": 31,
   "id": "b463620f-570f-45b2-8a2d-761ae61a9d15",
   "metadata": {},
   "outputs": [],
   "source": [
    "import pandas as pd\n",
    "from sklearn.metrics import precision_score, recall_score, f1_score, accuracy_score\n",
    "from sklearn.metrics import confusion_matrix, ConfusionMatrixDisplay\n",
    "import numpy as np\n",
    "from tqdm.notebook import tqdm\n",
    "import matplotlib.pyplot as plt"
   ]
  },
  {
   "cell_type": "code",
   "execution_count": 32,
   "id": "b6959c58-b15e-4d89-9c57-642909cedc13",
   "metadata": {},
   "outputs": [],
   "source": [
    "plt.style.use(\"ggplot\")"
   ]
  },
  {
   "cell_type": "code",
   "execution_count": 33,
   "id": "82f4ced6-f40c-49a1-a2b7-34127d944182",
   "metadata": {},
   "outputs": [
    {
     "name": "stdout",
     "output_type": "stream",
     "text": [
      "1310\n"
     ]
    },
    {
     "data": {
      "text/html": [
       "<div>\n",
       "<style scoped>\n",
       "    .dataframe tbody tr th:only-of-type {\n",
       "        vertical-align: middle;\n",
       "    }\n",
       "\n",
       "    .dataframe tbody tr th {\n",
       "        vertical-align: top;\n",
       "    }\n",
       "\n",
       "    .dataframe thead th {\n",
       "        text-align: right;\n",
       "    }\n",
       "</style>\n",
       "<table border=\"1\" class=\"dataframe\">\n",
       "  <thead>\n",
       "    <tr style=\"text-align: right;\">\n",
       "      <th></th>\n",
       "      <th>filename</th>\n",
       "      <th>label</th>\n",
       "      <th>air_conditioner</th>\n",
       "      <th>car_horn</th>\n",
       "      <th>children_playing</th>\n",
       "      <th>dog_bark</th>\n",
       "      <th>drilling</th>\n",
       "      <th>engine_idling</th>\n",
       "      <th>gun_shot</th>\n",
       "      <th>jackhammer</th>\n",
       "      <th>siren</th>\n",
       "      <th>street_music</th>\n",
       "    </tr>\n",
       "  </thead>\n",
       "  <tbody>\n",
       "    <tr>\n",
       "      <th>0</th>\n",
       "      <td>164797-2-0-50.wav</td>\n",
       "      <td>children_playing</td>\n",
       "      <td>0.003709</td>\n",
       "      <td>0.000305</td>\n",
       "      <td>0.987794</td>\n",
       "      <td>0.001612</td>\n",
       "      <td>0.000068</td>\n",
       "      <td>0.003563</td>\n",
       "      <td>0.000063</td>\n",
       "      <td>0.000093</td>\n",
       "      <td>0.000331</td>\n",
       "      <td>0.002462</td>\n",
       "    </tr>\n",
       "    <tr>\n",
       "      <th>1</th>\n",
       "      <td>17578-5-0-23.wav</td>\n",
       "      <td>engine_idling</td>\n",
       "      <td>0.027785</td>\n",
       "      <td>0.000359</td>\n",
       "      <td>0.000190</td>\n",
       "      <td>0.000461</td>\n",
       "      <td>0.011460</td>\n",
       "      <td>0.871870</td>\n",
       "      <td>0.000017</td>\n",
       "      <td>0.087416</td>\n",
       "      <td>0.000094</td>\n",
       "      <td>0.000348</td>\n",
       "    </tr>\n",
       "    <tr>\n",
       "      <th>2</th>\n",
       "      <td>207214-2-0-26.wav</td>\n",
       "      <td>children_playing</td>\n",
       "      <td>0.002041</td>\n",
       "      <td>0.000513</td>\n",
       "      <td>0.879849</td>\n",
       "      <td>0.003092</td>\n",
       "      <td>0.000306</td>\n",
       "      <td>0.000149</td>\n",
       "      <td>0.000042</td>\n",
       "      <td>0.000085</td>\n",
       "      <td>0.000412</td>\n",
       "      <td>0.113512</td>\n",
       "    </tr>\n",
       "    <tr>\n",
       "      <th>3</th>\n",
       "      <td>14470-2-0-14.wav</td>\n",
       "      <td>children_playing</td>\n",
       "      <td>0.000044</td>\n",
       "      <td>0.000197</td>\n",
       "      <td>0.979027</td>\n",
       "      <td>0.000629</td>\n",
       "      <td>0.002236</td>\n",
       "      <td>0.000090</td>\n",
       "      <td>0.000293</td>\n",
       "      <td>0.000199</td>\n",
       "      <td>0.000099</td>\n",
       "      <td>0.017187</td>\n",
       "    </tr>\n",
       "    <tr>\n",
       "      <th>4</th>\n",
       "      <td>93567-8-0-17.wav</td>\n",
       "      <td>siren</td>\n",
       "      <td>0.000010</td>\n",
       "      <td>0.000219</td>\n",
       "      <td>0.000096</td>\n",
       "      <td>0.000051</td>\n",
       "      <td>0.000088</td>\n",
       "      <td>0.000029</td>\n",
       "      <td>0.000003</td>\n",
       "      <td>0.000007</td>\n",
       "      <td>0.999467</td>\n",
       "      <td>0.000032</td>\n",
       "    </tr>\n",
       "  </tbody>\n",
       "</table>\n",
       "</div>"
      ],
      "text/plain": [
       "            filename             label  air_conditioner  car_horn  \\\n",
       "0  164797-2-0-50.wav  children_playing         0.003709  0.000305   \n",
       "1   17578-5-0-23.wav     engine_idling         0.027785  0.000359   \n",
       "2  207214-2-0-26.wav  children_playing         0.002041  0.000513   \n",
       "3   14470-2-0-14.wav  children_playing         0.000044  0.000197   \n",
       "4   93567-8-0-17.wav             siren         0.000010  0.000219   \n",
       "\n",
       "   children_playing  dog_bark  drilling  engine_idling  gun_shot  jackhammer  \\\n",
       "0          0.987794  0.001612  0.000068       0.003563  0.000063    0.000093   \n",
       "1          0.000190  0.000461  0.011460       0.871870  0.000017    0.087416   \n",
       "2          0.879849  0.003092  0.000306       0.000149  0.000042    0.000085   \n",
       "3          0.979027  0.000629  0.002236       0.000090  0.000293    0.000199   \n",
       "4          0.000096  0.000051  0.000088       0.000029  0.000003    0.000007   \n",
       "\n",
       "      siren  street_music  \n",
       "0  0.000331      0.002462  \n",
       "1  0.000094      0.000348  \n",
       "2  0.000412      0.113512  \n",
       "3  0.000099      0.017187  \n",
       "4  0.999467      0.000032  "
      ]
     },
     "execution_count": 33,
     "metadata": {},
     "output_type": "execute_result"
    }
   ],
   "source": [
    "df_test = pd.read_csv(\"preds/mit-test.csv\")\n",
    "print(len(df_test))\n",
    "df_test.head()"
   ]
  },
  {
   "cell_type": "code",
   "execution_count": 34,
   "id": "85bdebd2-0b80-48ad-a233-33e5d4cac2e2",
   "metadata": {},
   "outputs": [],
   "source": [
    "classes = df_test.label.sort_values().unique()"
   ]
  },
  {
   "cell_type": "code",
   "execution_count": 35,
   "id": "bf38ce15-4d62-4256-a0eb-ac2842ad804f",
   "metadata": {},
   "outputs": [],
   "source": [
    "metrics = [precision_score, recall_score, f1_score, accuracy_score]"
   ]
  },
  {
   "cell_type": "code",
   "execution_count": 36,
   "id": "29dd0690-d08f-42ad-87b7-3e8a9f7f5383",
   "metadata": {},
   "outputs": [],
   "source": [
    "preds = df_test[classes].idxmax(axis=1)"
   ]
  },
  {
   "cell_type": "code",
   "execution_count": 37,
   "id": "6a4008ef-3d83-4488-ae76-a265891358c4",
   "metadata": {},
   "outputs": [
    {
     "data": {
      "text/html": [
       "<div>\n",
       "<style scoped>\n",
       "    .dataframe tbody tr th:only-of-type {\n",
       "        vertical-align: middle;\n",
       "    }\n",
       "\n",
       "    .dataframe tbody tr th {\n",
       "        vertical-align: top;\n",
       "    }\n",
       "\n",
       "    .dataframe thead th {\n",
       "        text-align: right;\n",
       "    }\n",
       "</style>\n",
       "<table border=\"1\" class=\"dataframe\">\n",
       "  <thead>\n",
       "    <tr style=\"text-align: right;\">\n",
       "      <th></th>\n",
       "      <th>metric</th>\n",
       "      <th>value</th>\n",
       "    </tr>\n",
       "  </thead>\n",
       "  <tbody>\n",
       "    <tr>\n",
       "      <th>0</th>\n",
       "      <td>precision_score</td>\n",
       "      <td>0.940528</td>\n",
       "    </tr>\n",
       "    <tr>\n",
       "      <th>1</th>\n",
       "      <td>recall_score</td>\n",
       "      <td>0.935904</td>\n",
       "    </tr>\n",
       "    <tr>\n",
       "      <th>2</th>\n",
       "      <td>f1_score</td>\n",
       "      <td>0.937890</td>\n",
       "    </tr>\n",
       "    <tr>\n",
       "      <th>3</th>\n",
       "      <td>accuracy_score</td>\n",
       "      <td>0.936641</td>\n",
       "    </tr>\n",
       "  </tbody>\n",
       "</table>\n",
       "</div>"
      ],
      "text/plain": [
       "            metric     value\n",
       "0  precision_score  0.940528\n",
       "1     recall_score  0.935904\n",
       "2         f1_score  0.937890\n",
       "3   accuracy_score  0.936641"
      ]
     },
     "execution_count": 37,
     "metadata": {},
     "output_type": "execute_result"
    }
   ],
   "source": [
    "get_metrics(df_test.label, preds)"
   ]
  },
  {
   "cell_type": "markdown",
   "id": "5ca3e379-f24f-44ba-a9f2-1ee944908512",
   "metadata": {},
   "source": [
    "The performance here is significantly better"
   ]
  },
  {
   "cell_type": "code",
   "execution_count": 38,
   "id": "bfec45e1-d905-422f-b618-c06261c76808",
   "metadata": {},
   "outputs": [
    {
     "data": {
      "text/plain": [
       "<sklearn.metrics._plot.confusion_matrix.ConfusionMatrixDisplay at 0x14b6b7070>"
      ]
     },
     "execution_count": 38,
     "metadata": {},
     "output_type": "execute_result"
    },
    {
     "data": {
      "image/png": "[encoded data removed]",
      "text/plain": [
       "<Figure size 1080x1080 with 2 Axes>"
      ]
     },
     "metadata": {},
     "output_type": "display_data"
    }
   ],
   "source": [
    "fig, ax = plt.subplots(1, 1, figsize=(15, 15))\n",
    "\n",
    "ax.set_title(\"MIT-AudioSet\")\n",
    "\n",
    "ConfusionMatrixDisplay(confusion_matrix(df_test.label, preds), display_labels=classes).plot(ax=ax)"
   ]
  },
  {
   "cell_type": "markdown",
   "id": "d3c2eec9-2636-4899-b61c-e76b0d0b3f66",
   "metadata": {},
   "source": [
    "The confusion matrix confirms this with the almost perfect diagonal"
   ]
  },
  {
   "cell_type": "code",
   "execution_count": null,
   "id": "b7469930-3cc1-4afb-9df0-711ec6f2316f",
   "metadata": {},
   "outputs": [],
   "source": []
  }
 ],
 "metadata": {
  "kernelspec": {
   "display_name": "Python 3",
   "language": "python",
   "name": "python3"
  },
  "language_info": {
   "codemirror_mode": {
    "name": "ipython",
    "version": 3
   },
   "file_extension": ".py",
   "mimetype": "text/x-python",
   "name": "python",
   "nbconvert_exporter": "python",
   "pygments_lexer": "ipython3",
   "version": "3.9.12"
  }
 },
 "nbformat": 4,
 "nbformat_minor": 5
}
